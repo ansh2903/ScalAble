{
 "cells": [
  {
   "cell_type": "code",
   "execution_count": 1,
   "id": "f8ad5455",
   "metadata": {},
   "outputs": [],
   "source": [
    "from ollama import chat\n",
    "from ollama import ChatResponse"
   ]
  },
  {
   "cell_type": "code",
   "execution_count": 13,
   "id": "231eda12",
   "metadata": {},
   "outputs": [
    {
     "name": "stdout",
     "output_type": "stream",
     "text": [
      "Response: role='assistant' content='CREATE TABLE employees (id INT PRIMARY KEY, name VARCHAR(255), age INT)' thinking=None images=None tool_calls=None\n"
     ]
    }
   ],
   "source": [
    "model = 'BahaSlama/llama3.1-finetuned:latest' # or huihui_ai/deepseek-r1-abliterated:8b\n",
    "DB = \"SQL\"\n",
    "prompt_engineering = \"You're a Datanase Expert, You will only repond with the actual queries and nothing more. no thinking, no explaining, just the query. Unless asked specifically. Optimize and reduce runtime as much as possible\"\n",
    "input = f\"{prompt_engineering}. Create a {DB} query to make a table called 'employees'\"\n",
    "\n",
    "response = chat(\n",
    "    model=model,\n",
    "    messages=[\n",
    "        {\n",
    "            \"role\": \"user\",\n",
    "            \"content\": input\n",
    "        }\n",
    "    ],\n",
    ")\n",
    "\n",
    "print(\"Response:\", response.message)"
   ]
  },
  {
   "cell_type": "code",
   "execution_count": 8,
   "id": "e775ade2",
   "metadata": {},
   "outputs": [],
   "source": [
    "string = \"{'database': 'testdb', 'db_type': 'postgresql', 'host': 'localhost', 'name': 'postgrestest', 'password': 'admin', 'port': '5432', 'username': 'postgres'}\""
   ]
  },
  {
   "cell_type": "code",
   "execution_count": 9,
   "id": "4c6c7fbb",
   "metadata": {},
   "outputs": [],
   "source": [
    "import ast"
   ]
  },
  {
   "cell_type": "code",
   "execution_count": 10,
   "id": "e405395e",
   "metadata": {},
   "outputs": [
    {
     "data": {
      "text/plain": [
       "{'database': 'testdb',\n",
       " 'db_type': 'postgresql',\n",
       " 'host': 'localhost',\n",
       " 'name': 'postgrestest',\n",
       " 'password': 'admin',\n",
       " 'port': '5432',\n",
       " 'username': 'postgres'}"
      ]
     },
     "execution_count": 10,
     "metadata": {},
     "output_type": "execute_result"
    }
   ],
   "source": [
    "string = ast.literal_eval(string)\n",
    "string"
   ]
  },
  {
   "cell_type": "code",
   "execution_count": 11,
   "id": "a00c76c4",
   "metadata": {},
   "outputs": [
    {
     "data": {
      "text/plain": [
       "dict"
      ]
     },
     "execution_count": 11,
     "metadata": {},
     "output_type": "execute_result"
    }
   ],
   "source": [
    "type(string)"
   ]
  },
  {
   "cell_type": "code",
   "execution_count": 5,
   "id": "e167b36e",
   "metadata": {},
   "outputs": [],
   "source": [
    "import datetime "
   ]
  },
  {
   "cell_type": "code",
   "execution_count": 6,
   "id": "3138c4b9",
   "metadata": {},
   "outputs": [
    {
     "data": {
      "text/plain": [
       "'2025-07-31 22:42:11'"
      ]
     },
     "execution_count": 6,
     "metadata": {},
     "output_type": "execute_result"
    }
   ],
   "source": [
    "datetime.datetime.now().strftime(\"%Y-%m-%d %H:%M:%S\")"
   ]
  },
  {
   "cell_type": "code",
   "execution_count": null,
   "id": "e21113a7",
   "metadata": {},
   "outputs": [],
   "source": []
  }
 ],
 "metadata": {
  "kernelspec": {
   "display_name": "Python 3",
   "language": "python",
   "name": "python3"
  },
  "language_info": {
   "codemirror_mode": {
    "name": "ipython",
    "version": 3
   },
   "file_extension": ".py",
   "mimetype": "text/x-python",
   "name": "python",
   "nbconvert_exporter": "python",
   "pygments_lexer": "ipython3",
   "version": "3.12.0"
  }
 },
 "nbformat": 4,
 "nbformat_minor": 5
}
