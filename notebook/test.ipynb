{
 "cells": [
  {
   "cell_type": "code",
   "execution_count": 1,
   "id": "f8ad5455",
   "metadata": {},
   "outputs": [],
   "source": [
    "from ollama import chat\n",
    "from ollama import ChatResponse"
   ]
  },
  {
   "cell_type": "code",
   "execution_count": 13,
   "id": "231eda12",
   "metadata": {},
   "outputs": [
    {
     "name": "stdout",
     "output_type": "stream",
     "text": [
      "Response: role='assistant' content='CREATE TABLE employees (id INT PRIMARY KEY, name VARCHAR(255), age INT)' thinking=None images=None tool_calls=None\n"
     ]
    }
   ],
   "source": [
    "model = 'BahaSlama/llama3.1-finetuned:latest' # or huihui_ai/deepseek-r1-abliterated:8b\n",
    "DB = \"SQL\"\n",
    "prompt_engineering = \"You're a Datanase Expert, You will only repond with the actual queries and nothing more. no thinking, no explaining, just the query. Unless asked specifically. Optimize and reduce runtime as much as possible\"\n",
    "input = f\"{prompt_engineering}. Create a {DB} query to make a table called 'employees'\"\n",
    "\n",
    "response = chat(\n",
    "    model=model,\n",
    "    messages=[\n",
    "        {\n",
    "            \"role\": \"user\",\n",
    "            \"content\": input\n",
    "        }\n",
    "    ],\n",
    ")\n",
    "\n",
    "print(\"Response:\", response.message)"
   ]
  },
  {
   "cell_type": "code",
   "execution_count": 8,
   "id": "e775ade2",
   "metadata": {},
   "outputs": [],
   "source": [
    "string = \"{'database': 'testdb', 'db_type': 'postgresql', 'host': 'localhost', 'name': 'postgrestest', 'password': 'admin', 'port': '5432', 'username': 'postgres'}\""
   ]
  },
  {
   "cell_type": "code",
   "execution_count": 9,
   "id": "4c6c7fbb",
   "metadata": {},
   "outputs": [],
   "source": [
    "import ast"
   ]
  },
  {
   "cell_type": "code",
   "execution_count": 10,
   "id": "e405395e",
   "metadata": {},
   "outputs": [
    {
     "data": {
      "text/plain": [
       "{'database': 'testdb',\n",
       " 'db_type': 'postgresql',\n",
       " 'host': 'localhost',\n",
       " 'name': 'postgrestest',\n",
       " 'password': 'admin',\n",
       " 'port': '5432',\n",
       " 'username': 'postgres'}"
      ]
     },
     "execution_count": 10,
     "metadata": {},
     "output_type": "execute_result"
    }
   ],
   "source": [
    "string = ast.literal_eval(string)\n",
    "string"
   ]
  },
  {
   "cell_type": "code",
   "execution_count": 11,
   "id": "a00c76c4",
   "metadata": {},
   "outputs": [
    {
     "data": {
      "text/plain": [
       "dict"
      ]
     },
     "execution_count": 11,
     "metadata": {},
     "output_type": "execute_result"
    }
   ],
   "source": [
    "type(string)"
   ]
  },
  {
   "cell_type": "code",
   "execution_count": 5,
   "id": "e167b36e",
   "metadata": {},
   "outputs": [],
   "source": [
    "import datetime "
   ]
  },
  {
   "cell_type": "code",
   "execution_count": 6,
   "id": "3138c4b9",
   "metadata": {},
   "outputs": [
    {
     "data": {
      "text/plain": [
       "'2025-07-31 22:42:11'"
      ]
     },
     "execution_count": 6,
     "metadata": {},
     "output_type": "execute_result"
    }
   ],
   "source": [
    "datetime.datetime.now().strftime(\"%Y-%m-%d %H:%M:%S\")"
   ]
  },
  {
   "cell_type": "code",
   "execution_count": null,
   "id": "e21113a7",
   "metadata": {},
   "outputs": [
    {
     "name": "stdout",
     "output_type": "stream",
     "text": [
      "Data: [['id', 'department', 'salary', 'name'], [2, 'ML', 150000, 'Shruti'], [3, 'HR', 80000, 'John'], [4, 'Finance', 90000, 'Emily'], [5, 'IT', 120000, 'Ravi'], [6, 'Marketing', 75000, 'Samantha'], [7, 'Operations', 85000, 'Michael'], [8, 'Research', 140000, 'Amanda'], [9, 'Sales', 100000, 'David'], [10, 'Legal', 65000, 'Olivia'], [11, 'Product', 110000, 'Kevin'], [12, 'HR', 50000, 'Alice'], [13, 'Engineering', 75000, 'Bob'], [14, 'Marketing', 60000, 'Charlie'], [15, 'Sales', 80000, 'David'], [16, 'Finance', 90000, 'Eve'], [17, 'HR', 5000, 'Alice'], [18, 'IT', 6000, 'Bob'], [19, 'Finance', 5500, 'Charlie'], [20, 'Marketing', 4500, 'David'], [21, 'Sales', 7000, 'Eve']]\n",
      "('Csv_data:', 'id,department,salary,name\\n2,ML,150000,Shruti\\n3,HR,80000,John\\n4,Finance,90000,Emily\\n5,IT,120000,Ravi\\n6,Marketing,75000,Samantha\\n7,Operations,85000,Michael\\n8,Research,140000,Amanda\\n9,Sales,100000,David\\n10,Legal,65000,Olivia\\n11,Product,110000,Kevin\\n12,HR,50000,Alice\\n13,Engineering,75000,Bob\\n14,Marketing,60000,Charlie\\n15,Sales,80000,David\\n16,Finance,90000,Eve\\n17,HR,5000,Alice\\n18,IT,6000,Bob\\n19,Finance,5500,Charlie\\n20,Marketing,4500,David\\n21,Sales,7000,Eve\\n')\n"
     ]
    }
   ],
   "source": [
    "def visualize_data():\n",
    "    # Get the last query results from session\n",
    "    query_results = {'query': 'SELECT * FROM employee;', 'data': [['id', 'department', 'salary', 'name'], (2, 'ML', 150000, 'Shruti'), (3, 'HR', 80000, 'John'), (4, 'Finance', 90000, 'Emily'), (5, 'IT', 120000, 'Ravi'), (6, 'Marketing', 75000, 'Samantha'), (7, 'Operations', 85000, 'Michael'), (8, 'Research', 140000, 'Amanda'), (9, 'Sales', 100000, 'David'), (10, 'Legal', 65000, 'Olivia'), (11, 'Product', 110000, 'Kevin'), (12, 'HR', 50000, 'Alice'), (13, 'Engineering', 75000, 'Bob'), (14, 'Marketing', 60000, 'Charlie'), (15, 'Sales', 80000, 'David'), (16, 'Finance', 90000, 'Eve'), (17, 'HR', 5000, 'Alice'), (18, 'IT', 6000, 'Bob'), (19, 'Finance', 5500, 'Charlie'), (20, 'Marketing', 4500, 'David'), (21, 'Sales', 7000, 'Eve')], 'html_data': \"<table class='table table-bordered table-sm table-hover table-striped'><thead class='thead-dark'><tr><th>id</th><th>department</th><th>salary</th><th>name</th></tr></thead><tbody><tr><td>2</td><td>ML</td><td>150000</td><td>Shruti</td></tr><tr><td>3</td><td>HR</td><td>80000</td><td>John</td></tr><tr><td>4</td><td>Finance</td><td>90000</td><td>Emily</td></tr><tr><td>5</td><td>IT</td><td>120000</td><td>Ravi</td></tr><tr><td>6</td><td>Marketing</td><td>75000</td><td>Samantha</td></tr><tr><td>7</td><td>Operations</td><td>85000</td><td>Michael</td></tr><tr><td>8</td><td>Research</td><td>140000</td><td>Amanda</td></tr><tr><td>9</td><td>Sales</td><td>100000</td><td>David</td></tr><tr><td>10</td><td>Legal</td><td>65000</td><td>Olivia</td></tr><tr><td>11</td><td>Product</td><td>110000</td><td>Kevin</td></tr><tr><td>12</td><td>HR</td><td>50000</td><td>Alice</td></tr><tr><td>13</td><td>Engineering</td><td>75000</td><td>Bob</td></tr><tr><td>14</td><td>Marketing</td><td>60000</td><td>Charlie</td></tr><tr><td>15</td><td>Sales</td><td>80000</td><td>David</td></tr><tr><td>16</td><td>Finance</td><td>90000</td><td>Eve</td></tr><tr><td>17</td><td>HR</td><td>5000</td><td>Alice</td></tr><tr><td>18</td><td>IT</td><td>6000</td><td>Bob</td></tr><tr><td>19</td><td>Finance</td><td>5500</td><td>Charlie</td></tr><tr><td>20</td><td>Marketing</td><td>4500</td><td>David</td></tr><tr><td>21</td><td>Sales</td><td>7000</td><td>Eve</td></tr></tbody></table>\"}\n",
    "    \n",
    "    data = query_results.get('data', [])\n",
    "\n",
    "    data = [list(row) if isinstance(row, tuple) else row for row in data]\n",
    "    print(\"Data:\", data)\n",
    "\n",
    "    csv_data = \"\"\n",
    "\n",
    "    for row in data:\n",
    "        csv_data += \",\".join(map(str, row)) + \"\\n\"\n",
    "\n",
    "    return 'Csv_data:', csv_data\n",
    "\n",
    "print(visualize_data())"
   ]
  },
  {
   "cell_type": "code",
   "execution_count": null,
   "id": "78a4f2ac",
   "metadata": {},
   "outputs": [],
   "source": []
  }
 ],
 "metadata": {
  "kernelspec": {
   "display_name": "Python 3",
   "language": "python",
   "name": "python3"
  },
  "language_info": {
   "codemirror_mode": {
    "name": "ipython",
    "version": 3
   },
   "file_extension": ".py",
   "mimetype": "text/x-python",
   "name": "python",
   "nbconvert_exporter": "python",
   "pygments_lexer": "ipython3",
   "version": "3.12.0"
  }
 },
 "nbformat": 4,
 "nbformat_minor": 5
}
