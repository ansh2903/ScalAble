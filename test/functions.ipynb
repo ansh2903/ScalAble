{
 "cells": [
  {
   "cell_type": "code",
   "execution_count": 14,
   "id": "f0299c16",
   "metadata": {},
   "outputs": [],
   "source": [
    "import psycopg2\n",
    "import pandas as pd\n",
    "import openpyxl\n",
    "import csv\n",
    "import os\n",
    "import io"
   ]
  },
  {
   "cell_type": "code",
   "execution_count": 15,
   "id": "a5e19ba3",
   "metadata": {},
   "outputs": [],
   "source": [
    "conn = psycopg2.connect(\n",
    "    dbname=\"testdb\",\n",
    "    user=\"postgres\",\n",
    "    password=\"admin\",\n",
    "    host=\"localhost\",\n",
    "    port=5432\n",
    ")"
   ]
  },
  {
   "cell_type": "code",
   "execution_count": 17,
   "id": "73649a49",
   "metadata": {},
   "outputs": [],
   "source": [
    "cursor = conn.cursor()\n",
    "file_path = r\"C:\\Users\\ansh\\Desktop\\tracks.xlsx\""
   ]
  },
  {
   "cell_type": "code",
   "execution_count": 21,
   "id": "8a6da586",
   "metadata": {},
   "outputs": [],
   "source": [
    "cursor.execute(\"\"\"\n",
    "CREATE INDEX idx_tracks_isrc ON tracks(isrc);\n",
    "               \"\"\")\n",
    "conn.commit()"
   ]
  },
  {
   "cell_type": "code",
   "execution_count": null,
   "id": "aef7ca6f",
   "metadata": {},
   "outputs": [],
   "source": []
  },
  {
   "cell_type": "code",
   "execution_count": 12,
   "id": "244d9531",
   "metadata": {},
   "outputs": [],
   "source": [
    "copy_sql = \"\"\"\n",
    "COPY musicalwork (\n",
    "    UnclaimedMusicalWorkRightShareRecordId,\n",
    "    ResourceRecordId,\n",
    "    MusicalWorkRecordId,\n",
    "    ISRC,\n",
    "    DspResourceId,\n",
    "    ResourceTitle,\n",
    "    ResourceSubTitle,\n",
    "    AlternativeResourceTitle,\n",
    "    DisplayArtistName,\n",
    "    DisplayArtistISNI,\n",
    "    Duration,\n",
    "    UnclaimedRightSharePercentage,\n",
    "    PercentileForPrioritisation\n",
    ")\n",
    "FROM STDIN WITH (FORMAT csv, HEADER true, DELIMITER E'\\t')\n",
    "\"\"\"\n",
    "with open(file_path, \"r\", encoding=\"utf-8\") as file:\n",
    "    cursor.copy_expert(copy_sql, file)\n",
    "\n",
    "conn.commit()\n"
   ]
  },
  {
   "cell_type": "code",
   "execution_count": 82,
   "id": "34357533",
   "metadata": {},
   "outputs": [
    {
     "ename": "UnicodeDecodeError",
     "evalue": "'utf-8' codec can't decode bytes in position 15-16: invalid continuation byte",
     "output_type": "error",
     "traceback": [
      "\u001b[31m---------------------------------------------------------------------------\u001b[39m",
      "\u001b[31mUnicodeDecodeError\u001b[39m                        Traceback (most recent call last)",
      "\u001b[36mCell\u001b[39m\u001b[36m \u001b[39m\u001b[32mIn[82]\u001b[39m\u001b[32m, line 3\u001b[39m\n\u001b[32m      1\u001b[39m \u001b[38;5;28;01mwith\u001b[39;00m \u001b[38;5;28mopen\u001b[39m(file_path, \u001b[33m\"\u001b[39m\u001b[33mr\u001b[39m\u001b[33m\"\u001b[39m, encoding=\u001b[33m\"\u001b[39m\u001b[33mutf-8\u001b[39m\u001b[33m\"\u001b[39m) \u001b[38;5;28;01mas\u001b[39;00m f:\n\u001b[32m      2\u001b[39m     \u001b[38;5;28;01mfor\u001b[39;00m i \u001b[38;5;129;01min\u001b[39;00m \u001b[38;5;28mrange\u001b[39m(\u001b[32m5\u001b[39m):\n\u001b[32m----> \u001b[39m\u001b[32m3\u001b[39m         \u001b[38;5;28mprint\u001b[39m(\u001b[38;5;28mrepr\u001b[39m(\u001b[43mf\u001b[49m\u001b[43m.\u001b[49m\u001b[43mreadline\u001b[49m\u001b[43m(\u001b[49m\u001b[43m)\u001b[49m))\n",
      "\u001b[36mFile \u001b[39m\u001b[32m<frozen codecs>:322\u001b[39m, in \u001b[36mdecode\u001b[39m\u001b[34m(self, input, final)\u001b[39m\n",
      "\u001b[31mUnicodeDecodeError\u001b[39m: 'utf-8' codec can't decode bytes in position 15-16: invalid continuation byte"
     ]
    }
   ],
   "source": [
    "with open(file_path, \"r\", encoding=\"utf-8\") as f:\n",
    "    for i in range(5):\n",
    "        print(repr(f.readline()))\n"
   ]
  },
  {
   "cell_type": "code",
   "execution_count": 11,
   "id": "2bb2cd3a",
   "metadata": {},
   "outputs": [],
   "source": [
    "try:\n",
    "    cursor.execute(\"\"\"\n",
    "    create table if not exists musicalwork (\n",
    "        UnclaimedMusicalWorkRightShareRecordId bigint,\n",
    "        ResourceRecordId TEXT,\n",
    "        MusicalWorkRecordId TEXT,\n",
    "        ISRC TEXT,\n",
    "        DspResourceId TEXT,\n",
    "        ResourceTitle text,\n",
    "        ResourceSubTitle text,\n",
    "        AlternativeResourceTitle text,\n",
    "        DisplayArtistName text,\n",
    "        DisplayArtistISNI text,\n",
    "        Duration Numeric,\n",
    "        UnclaimedRightSharePercentage float,\n",
    "        PercentileForPrioritisation float\n",
    "    );\n",
    "    \"\"\")\n",
    "    conn.commit()\n",
    "\n",
    "except Exception as e:\n",
    "    print(\"Error:\", e)\n",
    "    conn.rollback()\n"
   ]
  },
  {
   "cell_type": "code",
   "execution_count": 10,
   "id": "703ed27d",
   "metadata": {},
   "outputs": [],
   "source": [
    "cursor.execute(\"Drop table musicalwork;\")"
   ]
  },
  {
   "cell_type": "code",
   "execution_count": 78,
   "id": "570b7a4d",
   "metadata": {},
   "outputs": [],
   "source": [
    "cursor.close()\n",
    "conn.close()"
   ]
  },
  {
   "cell_type": "code",
   "execution_count": 19,
   "id": "bed66cac",
   "metadata": {},
   "outputs": [],
   "source": [
    "cursor.execute(\"\"\"\n",
    "CREATE TABLE IF NOT EXISTS tracks (\n",
    "    track_name TEXT,\n",
    "    record TEXT,\n",
    "    record_type TEXT,\n",
    "    release_date TEXT,\n",
    "    isrc TEXT,\n",
    "    spotify_url TEXT,\n",
    "    duration INT,\n",
    "    popularity INT,\n",
    "    explicit BOOLEAN\n",
    ");\n",
    "\"\"\")\n",
    "conn.commit()"
   ]
  },
  {
   "cell_type": "code",
   "execution_count": 20,
   "id": "37efc43f",
   "metadata": {},
   "outputs": [],
   "source": [
    "wb = openpyxl.load_workbook(file_path, data_only=True)\n",
    "sheet = wb.active\n",
    "\n",
    "csv_buffer = io.StringIO()\n",
    "writer = csv.writer(csv_buffer)\n",
    "\n",
    "for row in sheet.iter_rows(values_only=True):\n",
    "    writer.writerow(row)\n",
    "\n",
    "csv_buffer.seek(0)\n",
    "\n",
    "copy_sql = f\"COPY tracks FROM STDIN WITH CSV HEADER\"\n",
    "cursor.copy_expert(copy_sql, csv_buffer)\n",
    "conn.commit()\n",
    "\n",
    "csv_buffer.close()\n",
    "wb.close()\n",
    "sheet = None\n"
   ]
  },
  {
   "cell_type": "code",
   "execution_count": 18,
   "id": "266c3b1f",
   "metadata": {},
   "outputs": [],
   "source": [
    "cursor.execute(\"DROP TABLE Tracks;\")\n",
    "conn.commit()"
   ]
  },
  {
   "cell_type": "code",
   "execution_count": null,
   "id": "0ca38dfa",
   "metadata": {},
   "outputs": [],
   "source": []
  }
 ],
 "metadata": {
  "kernelspec": {
   "display_name": "Python 3",
   "language": "python",
   "name": "python3"
  },
  "language_info": {
   "codemirror_mode": {
    "name": "ipython",
    "version": 3
   },
   "file_extension": ".py",
   "mimetype": "text/x-python",
   "name": "python",
   "nbconvert_exporter": "python",
   "pygments_lexer": "ipython3",
   "version": "3.12.11"
  }
 },
 "nbformat": 4,
 "nbformat_minor": 5
}
