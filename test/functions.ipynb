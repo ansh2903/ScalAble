{
 "cells": [
  {
   "cell_type": "code",
   "execution_count": 8,
   "id": "6f8fa8af",
   "metadata": {},
   "outputs": [],
   "source": [
    "import requests\n",
    "import sys\n",
    "import json\n",
    "\n",
    "from src.core.exception import CustomException\n",
    "from src.core.logger import logging\n",
    "\n",
    "\n",
    "def generate_query_from_nl(nl_query: str, db_type, db_metadata: dict = {}, model=\"qwen2.5-coder:7b\"):\n",
    "    \"\"\"\n",
    "    Converts natural language query into database-specific query using a local LLM.\n",
    "    Streams back the query token-by-token.\n",
    "    Yields tokens in real-time so the frontend can show partial results.\n",
    "    \"\"\"\n",
    "\n",
    "    try:\n",
    "        prompt_text = f\"\"\"\n",
    "        You are a professional {db_type} query generation expert. Your job is to convert natural language into executable {db_type} queries.\n",
    "\n",
    "        Below is metadata about the user's database (tables, columns, etc.):\n",
    "        {db_metadata}\n",
    "\n",
    "        ---\n",
    "\n",
    "        User Query:\n",
    "        {nl_query}\n",
    "\n",
    "        ---\n",
    "\n",
    "        Strict Instructions:\n",
    "        - ONLY return the final executable query (no explanations, no markdown, no comments).\n",
    "        - Do NOT wrap the query in triple backticks.\n",
    "        - Do NOT prefix with language (like \"```sql\" or \"MongoDB query:\").\n",
    "        - Do NOT add any explanation, text, natural language, or notes.\n",
    "        - Your entire response should be a single query string.\n",
    "\n",
    "        Examples:\n",
    "        Input: \"Get first 5 rows from employee table\"\n",
    "        Output: SELECT * FROM employee LIMIT 5;\n",
    "\n",
    "        Input: \"Show employees with age > 30\"\n",
    "        Output: SELECT * FROM employee WHERE age > 30;\n",
    "\n",
    "        Input: \"Fetch documents with status 'active'\"\n",
    "        Output: db.collection.find({{ status: \"active\" }})\n",
    "\n",
    "        If unsure, return an empty string.\n",
    "\n",
    "        Now respond with the query only:\n",
    "        \"\"\"\n",
    "\n",
    "        payload = {\n",
    "            \"model\": model,\n",
    "            \"prompt\": prompt_text,\n",
    "            \"stream\": True\n",
    "        }\n",
    "\n",
    "        # Stream response from Ollama\n",
    "        with requests.post(\"http://localhost:11434/api/generate\", json=payload, stream=True) as resp:\n",
    "            resp.raise_for_status()\n",
    "            full_query = \"\"\n",
    "\n",
    "            for line in resp.iter_lines():\n",
    "                if not line:\n",
    "                    continue\n",
    "\n",
    "                try:\n",
    "                    data = json.loads(line.decode(\"utf-8\"))\n",
    "                except json.JSONDecodeError:\n",
    "                    logging.warning(f\"Skipping malformed JSON line: {line}\")\n",
    "                    continue\n",
    "\n",
    "                token = data.get(\"response\", \"\")\n",
    "                if token:\n",
    "                    full_query += token\n",
    "                    yield token  # Stream token to caller immediately\n",
    "\n",
    "                if data.get(\"done\", False):\n",
    "                    logging.info(f\"Final generated query: {full_query.strip()}\")\n",
    "                    break\n",
    "\n",
    "    except Exception as e:\n",
    "        logging.error(\"Error in generate_query_from_nl\", exc_info=True)\n",
    "        raise CustomException(e, sys)\n"
   ]
  },
  {
   "cell_type": "code",
   "execution_count": 9,
   "id": "720cd122",
   "metadata": {},
   "outputs": [
    {
     "data": {
      "text/plain": [
       "<generator object generate_query_from_nl at 0x0000020C5D95FB50>"
      ]
     },
     "execution_count": 9,
     "metadata": {},
     "output_type": "execute_result"
    }
   ],
   "source": [
    "query = 'generate a generic query'\n",
    "\n",
    "generate_query_from_nl(nl_query=query, db_type='postgresql')"
   ]
  },
  {
   "cell_type": "code",
   "execution_count": 61,
   "id": "beeb1b7a",
   "metadata": {},
   "outputs": [],
   "source": [
    "output = '```json{\"query\": \"SELECT * FROM employee;\",\"comment\": \"test\"}```'"
   ]
  },
  {
   "cell_type": "code",
   "execution_count": 62,
   "id": "dcf779d8",
   "metadata": {},
   "outputs": [
    {
     "data": {
      "text/plain": [
       "'{\"query\": \"SELECT * FROM employee;\",\"comment\": \"test\"}'"
      ]
     },
     "execution_count": 62,
     "metadata": {},
     "output_type": "execute_result"
    }
   ],
   "source": [
    "if '```json' in output:\n",
    "    output = output.strip('``` json')\n",
    "output\n"
   ]
  },
  {
   "cell_type": "code",
   "execution_count": 63,
   "id": "2a331a80",
   "metadata": {},
   "outputs": [
    {
     "data": {
      "text/plain": [
       "{'query': 'SELECT * FROM employee;', 'comment': 'test'}"
      ]
     },
     "execution_count": 63,
     "metadata": {},
     "output_type": "execute_result"
    }
   ],
   "source": [
    "import ast\n",
    "\n",
    "json_formated = ast.literal_eval(output)\n",
    "json_formated"
   ]
  },
  {
   "cell_type": "code",
   "execution_count": 64,
   "id": "e1c08a37",
   "metadata": {},
   "outputs": [
    {
     "name": "stdout",
     "output_type": "stream",
     "text": [
      "<class 'dict'>\n"
     ]
    }
   ],
   "source": [
    "print(type(json_formated))"
   ]
  },
  {
   "cell_type": "code",
   "execution_count": 65,
   "id": "1d87af3f",
   "metadata": {},
   "outputs": [
    {
     "name": "stdout",
     "output_type": "stream",
     "text": [
      "SELECT * FROM employee;\n",
      "test\n"
     ]
    }
   ],
   "source": [
    "query = json_formated.get('query')\n",
    "\n",
    "print(query)\n",
    "\n",
    "comment = json_formated.get('comment')\n",
    "if comment == '':\n",
    "    del comment\n",
    "\n",
    "print(comment if 'comment' in locals() else '')"
   ]
  },
  {
   "cell_type": "code",
   "execution_count": 66,
   "id": "e49fbba3",
   "metadata": {},
   "outputs": [],
   "source": [
    "output = ('SELECT * FROM employee;', '')"
   ]
  },
  {
   "cell_type": "code",
   "execution_count": 68,
   "id": "5be86d76",
   "metadata": {},
   "outputs": [
    {
     "data": {
      "text/plain": [
       "'SELECT * FROM employee;'"
      ]
     },
     "execution_count": 68,
     "metadata": {},
     "output_type": "execute_result"
    }
   ],
   "source": [
    "output[0]"
   ]
  },
  {
   "cell_type": "code",
   "execution_count": null,
   "id": "60e782cb",
   "metadata": {},
   "outputs": [],
   "source": []
  }
 ],
 "metadata": {
  "kernelspec": {
   "display_name": "Python 3",
   "language": "python",
   "name": "python3"
  },
  "language_info": {
   "codemirror_mode": {
    "name": "ipython",
    "version": 3
   },
   "file_extension": ".py",
   "mimetype": "text/x-python",
   "name": "python",
   "nbconvert_exporter": "python",
   "pygments_lexer": "ipython3",
   "version": "3.12.0"
  }
 },
 "nbformat": 4,
 "nbformat_minor": 5
}
